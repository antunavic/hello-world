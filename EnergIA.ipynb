{
  "nbformat": 4,
  "nbformat_minor": 0,
  "metadata": {
    "colab": {
      "provenance": [],
      "authorship_tag": "ABX9TyP+8PpT1WNsmDsYJKy3ocB+",
      "include_colab_link": true
    },
    "kernelspec": {
      "name": "python3",
      "display_name": "Python 3"
    },
    "language_info": {
      "name": "python"
    }
  },
  "cells": [
    {
      "cell_type": "markdown",
      "metadata": {
        "id": "view-in-github",
        "colab_type": "text"
      },
      "source": [
        "<a href=\"https://colab.research.google.com/github/antunavic/hello-world/blob/master/EnergIA.ipynb\" target=\"_parent\"><img src=\"https://colab.research.google.com/assets/colab-badge.svg\" alt=\"Open In Colab\"/></a>"
      ]
    },
    {
      "cell_type": "code",
      "execution_count": 2,
      "metadata": {
        "id": "W9dGvD9sSRtU"
      },
      "outputs": [],
      "source": [
        "pozo = \"A-101\"\n",
        "produccion = 500"
      ]
    },
    {
      "cell_type": "code",
      "source": [
        "pozo = \"A-101\"\n",
        "produccion = 500"
      ],
      "metadata": {
        "id": "sGhI9kMbTiyc"
      },
      "execution_count": 3,
      "outputs": []
    },
    {
      "cell_type": "code",
      "source": [
        "print(pozo)"
      ],
      "metadata": {
        "colab": {
          "base_uri": "https://localhost:8080/"
        },
        "id": "UYg45iBqTnhp",
        "outputId": "42160b07-54aa-4f04-ba5c-0275e6b2a770"
      },
      "execution_count": 4,
      "outputs": [
        {
          "output_type": "stream",
          "name": "stdout",
          "text": [
            "A-101\n"
          ]
        }
      ]
    },
    {
      "cell_type": "code",
      "source": [
        "print(produccion)"
      ],
      "metadata": {
        "colab": {
          "base_uri": "https://localhost:8080/"
        },
        "id": "4B3gqQ5VTqe1",
        "outputId": "fc5064ff-32e6-4aa3-a2d2-56cc0e4d1fe0"
      },
      "execution_count": 5,
      "outputs": [
        {
          "output_type": "stream",
          "name": "stdout",
          "text": [
            "500\n"
          ]
        }
      ]
    },
    {
      "cell_type": "code",
      "source": [
        "pozos = 12\n",
        "produccion_diaria = 23.7\n",
        "campo = \"Ku-Maloob-Zaap\"\n",
        "pozo_activo=True\n",
        "mantenimiento=False"
      ],
      "metadata": {
        "id": "yTrbadCOS1hR"
      },
      "execution_count": 1,
      "outputs": []
    },
    {
      "cell_type": "code",
      "source": [
        "operador = \"PEMEX\""
      ],
      "metadata": {
        "id": "-MWO_WGRUgTJ"
      },
      "execution_count": 6,
      "outputs": []
    },
    {
      "cell_type": "code",
      "source": [
        "print(\"I'm learning Python\")"
      ],
      "metadata": {
        "colab": {
          "base_uri": "https://localhost:8080/"
        },
        "id": "6nbbS29VUzro",
        "outputId": "955eb1d3-d48f-4403-fa41-02bddca5db75"
      },
      "execution_count": 7,
      "outputs": [
        {
          "output_type": "stream",
          "name": "stdout",
          "text": [
            "I'm learning Python\n"
          ]
        }
      ]
    },
    {
      "cell_type": "code",
      "source": [
        "print('El libro se llama \"Python Basico\"')"
      ],
      "metadata": {
        "colab": {
          "base_uri": "https://localhost:8080/"
        },
        "id": "kp_Z-UIoVDJo",
        "outputId": "b8c2869f-14e3-4c4e-876f-d1fc256da470"
      },
      "execution_count": 8,
      "outputs": [
        {
          "output_type": "stream",
          "name": "stdout",
          "text": [
            "El libro se llama \"Python Basico\"\n"
          ]
        }
      ]
    },
    {
      "cell_type": "code",
      "source": [
        "pozo = \"A-101\"\n",
        "produccion = 1345.7 # en barriles por dia"
      ],
      "metadata": {
        "id": "7cPiwMEgVNOU"
      },
      "execution_count": 9,
      "outputs": []
    },
    {
      "cell_type": "code",
      "source": [
        "activo= True"
      ],
      "metadata": {
        "id": "d3dUqeG8VV3o"
      },
      "execution_count": 10,
      "outputs": []
    },
    {
      "cell_type": "code",
      "source": [
        "print(\"Pozo:\", pozo)\n",
        "print(\"Produccion diaria: \", produccion, \"barriles\")"
      ],
      "metadata": {
        "colab": {
          "base_uri": "https://localhost:8080/"
        },
        "id": "yRo5fdR3VYcN",
        "outputId": "3df06344-fc32-4af5-ff65-c256e276d7ca"
      },
      "execution_count": 11,
      "outputs": [
        {
          "output_type": "stream",
          "name": "stdout",
          "text": [
            "Pozo: A-101\n",
            "Produccion diaria:  1345.7 barriles\n"
          ]
        }
      ]
    },
    {
      "cell_type": "code",
      "source": [
        "print(\"¿Esta activo?\", activo)\n"
      ],
      "metadata": {
        "colab": {
          "base_uri": "https://localhost:8080/"
        },
        "id": "TUpvIQplVlYX",
        "outputId": "584faf11-774e-4a3b-c5c1-eec0d532f589"
      },
      "execution_count": 12,
      "outputs": [
        {
          "output_type": "stream",
          "name": "stdout",
          "text": [
            "¿Esta activo? True\n"
          ]
        }
      ]
    },
    {
      "cell_type": "code",
      "source": [
        "producciones = [1200, 1345.7, 980, 1100]"
      ],
      "metadata": {
        "id": "n6WvHfTcWBSL"
      },
      "execution_count": 13,
      "outputs": []
    },
    {
      "cell_type": "code",
      "source": [
        "pozos = [\"A-101\", \"A-102\", \"A-103\", \"A-104\"]"
      ],
      "metadata": {
        "id": "4Rp8-g2BWL_M"
      },
      "execution_count": 14,
      "outputs": []
    },
    {
      "cell_type": "code",
      "source": [
        "print(pozos[0])\n",
        "print(pozos[1])"
      ],
      "metadata": {
        "colab": {
          "base_uri": "https://localhost:8080/"
        },
        "id": "59L089XwWQIU",
        "outputId": "d82aca09-33f2-4c90-8f7a-053eb76dd725"
      },
      "execution_count": 15,
      "outputs": [
        {
          "output_type": "stream",
          "name": "stdout",
          "text": [
            "A-101\n",
            "A-102\n"
          ]
        }
      ]
    },
    {
      "cell_type": "code",
      "source": [
        "producciones[2] = 1050\n",
        "print(producciones)"
      ],
      "metadata": {
        "colab": {
          "base_uri": "https://localhost:8080/"
        },
        "id": "cfIcXd8fWczw",
        "outputId": "df1218fe-34f7-4011-d2e2-aaff8ebf9dc3"
      },
      "execution_count": 16,
      "outputs": [
        {
          "output_type": "stream",
          "name": "stdout",
          "text": [
            "[1200, 1345.7, 1050, 1100]\n"
          ]
        }
      ]
    },
    {
      "cell_type": "code",
      "source": [
        "print(len(pozos))"
      ],
      "metadata": {
        "colab": {
          "base_uri": "https://localhost:8080/"
        },
        "id": "OsbAB1wTWtko",
        "outputId": "3a3f6227-d9ca-4474-c266-a73520c809e7"
      },
      "execution_count": 17,
      "outputs": [
        {
          "output_type": "stream",
          "name": "stdout",
          "text": [
            "4\n"
          ]
        }
      ]
    },
    {
      "cell_type": "code",
      "source": [
        "print(max(pozos))\n",
        "print(min(pozos))"
      ],
      "metadata": {
        "colab": {
          "base_uri": "https://localhost:8080/"
        },
        "id": "4gdQwqPQW2Dc",
        "outputId": "93fb7966-7912-4ef9-e004-32d3d6d16900"
      },
      "execution_count": 18,
      "outputs": [
        {
          "output_type": "stream",
          "name": "stdout",
          "text": [
            "A-104\n",
            "A-101\n"
          ]
        }
      ]
    },
    {
      "cell_type": "code",
      "source": [
        "pozo = {\n",
        "    \"nombre\": \"A-101\",\n",
        "    \"Campo\" : \"Ku-Maloob-Zaap\",\n",
        "    \"produccion\": 1345.7,\n",
        "    \"activo\": True\n",
        "}"
      ],
      "metadata": {
        "id": "msOGX5mqW8gx"
      },
      "execution_count": 20,
      "outputs": []
    },
    {
      "cell_type": "code",
      "source": [
        "print(pozo[\"produccion\"])\n"
      ],
      "metadata": {
        "colab": {
          "base_uri": "https://localhost:8080/"
        },
        "id": "8eWktT7iXcXb",
        "outputId": "bd282034-852d-44e0-97e4-18a6e0590791"
      },
      "execution_count": 21,
      "outputs": [
        {
          "output_type": "stream",
          "name": "stdout",
          "text": [
            "1345.7\n"
          ]
        }
      ]
    },
    {
      "cell_type": "code",
      "source": [
        "pozo[\"produccion\"]=1500"
      ],
      "metadata": {
        "id": "F5BspxbYXiFK"
      },
      "execution_count": 22,
      "outputs": []
    },
    {
      "cell_type": "code",
      "source": [
        "print(pozo)"
      ],
      "metadata": {
        "colab": {
          "base_uri": "https://localhost:8080/"
        },
        "id": "6tuQaiVaXnkX",
        "outputId": "32307c94-7d8b-49f0-fb55-840c71bf9927"
      },
      "execution_count": 23,
      "outputs": [
        {
          "output_type": "stream",
          "name": "stdout",
          "text": [
            "{'nombre': 'A-101', 'Campo': 'Ku-Maloob-Zaap', 'produccion': 1500, 'activo': True}\n"
          ]
        }
      ]
    },
    {
      "cell_type": "code",
      "source": [
        "produccion = 500\n",
        "if produccion > 1000:\n",
        "    print(\"Produccion alta\")\n",
        "elif produccion < 200:\n",
        "    print(\"Produccion media\")\n",
        "else:\n",
        "    print(\"Produccion baja\")"
      ],
      "metadata": {
        "colab": {
          "base_uri": "https://localhost:8080/"
        },
        "id": "2Lfz7EZAYK7d",
        "outputId": "ff6094c9-ca61-4528-bd0a-50df3a0804c2"
      },
      "execution_count": 24,
      "outputs": [
        {
          "output_type": "stream",
          "name": "stdout",
          "text": [
            "Produccion baja\n"
          ]
        }
      ]
    },
    {
      "cell_type": "code",
      "source": [
        "pozos = [\"A-101\", \"A-102\", \"A-103\", \"A-104\"]\n",
        "for pozo in pozos:\n",
        "    print(pozo)"
      ],
      "metadata": {
        "colab": {
          "base_uri": "https://localhost:8080/"
        },
        "id": "EmOsphZ1YbXq",
        "outputId": "17c99dd6-5bde-4342-8d7e-d63ae9090da5"
      },
      "execution_count": 25,
      "outputs": [
        {
          "output_type": "stream",
          "name": "stdout",
          "text": [
            "A-101\n",
            "A-102\n",
            "A-103\n",
            "A-104\n"
          ]
        }
      ]
    },
    {
      "cell_type": "code",
      "source": [
        "n = 1\n",
        "while n >= 3:\n",
        "    print(\"Revision\", n)\n",
        "    n += 1"
      ],
      "metadata": {
        "id": "IvROyGtsYpe0"
      },
      "execution_count": 29,
      "outputs": []
    },
    {
      "cell_type": "code",
      "source": [
        "produccion = 0 # valor de produccion del pozo en barriles/dia\n",
        "if produccion == 0:\n",
        "    print(\"El pozo esta cerrado\")\n",
        "else:\n",
        "    print(\"El pozo esta en produccion\")"
      ],
      "metadata": {
        "colab": {
          "base_uri": "https://localhost:8080/"
        },
        "id": "v7QL38dfY_DA",
        "outputId": "fdfcf4d6-f473-4bd6-e542-b161b224ed0e"
      },
      "execution_count": 30,
      "outputs": [
        {
          "output_type": "stream",
          "name": "stdout",
          "text": [
            "El pozo esta cerrado\n"
          ]
        }
      ]
    },
    {
      "cell_type": "code",
      "source": [
        "def produccion_pozo(pozo, produccion):\n",
        "    print(\"El pozo\", pozo, \"produce\", produccion, \"barriles/dia\")\n",
        "produccion_pozo(\"A-101\", 500)"
      ],
      "metadata": {
        "colab": {
          "base_uri": "https://localhost:8080/"
        },
        "id": "CqdT8xQHZlK4",
        "outputId": "da72da46-bcea-45c8-bfe0-0555beba03ca"
      },
      "execution_count": 40,
      "outputs": [
        {
          "output_type": "stream",
          "name": "stdout",
          "text": [
            "El pozo A-101 produce 500 barriles/dia\n"
          ]
        }
      ]
    },
    {
      "cell_type": "code",
      "source": [
        "def clasificar_pozo(produccion):\n",
        "  if produccion == 0:\n",
        "    return \"Cerrado\"\n",
        "  else:\n",
        "    return \"En produccion\""
      ],
      "metadata": {
        "id": "J4uBWY37aQiv"
      },
      "execution_count": 33,
      "outputs": []
    },
    {
      "cell_type": "code",
      "source": [
        "print(clasificar_pozo(0))\n"
      ],
      "metadata": {
        "colab": {
          "base_uri": "https://localhost:8080/"
        },
        "id": "JGBFCjW8apfy",
        "outputId": "c0e5c49f-12a8-4ee4-ab8d-26d76050a504"
      },
      "execution_count": 34,
      "outputs": [
        {
          "output_type": "stream",
          "name": "stdout",
          "text": [
            "Cerrado\n"
          ]
        }
      ]
    },
    {
      "cell_type": "code",
      "source": [
        "print(clasificar_pozo(500))\n"
      ],
      "metadata": {
        "colab": {
          "base_uri": "https://localhost:8080/"
        },
        "id": "YBdvJUu6aukH",
        "outputId": "7005ad38-ea74-4819-d429-e97cd130636c"
      },
      "execution_count": 35,
      "outputs": [
        {
          "output_type": "stream",
          "name": "stdout",
          "text": [
            "En produccion\n"
          ]
        }
      ]
    },
    {
      "cell_type": "code",
      "source": [
        "import math"
      ],
      "metadata": {
        "id": "UmqW6JFYbSBM"
      },
      "execution_count": 41,
      "outputs": []
    },
    {
      "cell_type": "code",
      "source": [
        "print(math.sqrt(49)) #7.0"
      ],
      "metadata": {
        "colab": {
          "base_uri": "https://localhost:8080/"
        },
        "id": "5SNI0uZ8bZjV",
        "outputId": "d4ccfb1c-b8bd-4229-8a6d-f6c879b5e87a"
      },
      "execution_count": 42,
      "outputs": [
        {
          "output_type": "stream",
          "name": "stdout",
          "text": [
            "7.0\n"
          ]
        }
      ]
    },
    {
      "cell_type": "code",
      "source": [
        "import numpy as np\n",
        "# Produccion de 4 pozos (barriles/dia)\n",
        "producciones = np.array([500, 1200, 800, 0])\n",
        "\n",
        "print(\"Produccion total:\", producciones.sum())\n",
        "print(\"Produccion promedio:\", producciones.mean())"
      ],
      "metadata": {
        "colab": {
          "base_uri": "https://localhost:8080/"
        },
        "id": "ZdTg60umbfoV",
        "outputId": "b8f71336-76ad-42f5-b751-7ff4a2755be1"
      },
      "execution_count": 43,
      "outputs": [
        {
          "output_type": "stream",
          "name": "stdout",
          "text": [
            "Produccion total: 2500\n",
            "Produccion promedio: 625.0\n"
          ]
        }
      ]
    }
  ]
}